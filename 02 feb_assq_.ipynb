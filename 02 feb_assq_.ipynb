{
 "cells": [
  {
   "cell_type": "code",
   "execution_count": 2,
   "id": "ce146c07-9240-49cf-9bb2-1ed445e20824",
   "metadata": {},
   "outputs": [
    {
     "name": "stdout",
     "output_type": "stream",
     "text": [
      "product of first 10 natural number is: 3628800\n"
     ]
    }
   ],
   "source": [
    "product=1\n",
    "i=1\n",
    "while i<=10:\n",
    "    product=product*i\n",
    "    i=i+1\n",
    "print(\"product of first 10 natural number is:\",product)"
   ]
  },
  {
   "cell_type": "code",
   "execution_count": 4,
   "id": "69b6c4a6-69a2-4165-9865-50fb0f311243",
   "metadata": {},
   "outputs": [
    {
     "name": "stdout",
     "output_type": "stream",
     "text": [
      "number of vowels in string is: 12\n"
     ]
    }
   ],
   "source": [
    "string=\"I want to become a data scientist\"\n",
    "count=0\n",
    "for j in string:\n",
    "    if j=='a' or j=='e' or j=='i' or j=='o' or j=='u' or j=='A' or j=='I' or j=='E' or j=='O' or j=='U':\n",
    "        count=count+1\n",
    "print(\"number of vowels in string is:\",count)\n"
   ]
  },
  {
   "cell_type": "code",
   "execution_count": 10,
   "id": "b2ae2c0d-9835-4330-9e2d-2078e154e927",
   "metadata": {},
   "outputs": [
    {
     "name": "stdout",
     "output_type": "stream",
     "text": [
      "[8, 64, 125, 216, 512, 1000, 1728, 2744, 3375, 4096, 5832, 8000, 10648, 13824, 15625, 17576, 21952, 27000, 32768, 39304, 42875, 46656, 54872, 64000, 74088, 85184, 91125, 97336, 110592, 125000, 140608, 157464, 166375, 175616, 195112, 216000, 238328, 262144, 274625, 287496, 314432, 343000, 373248, 405224, 421875, 438976, 474552, 512000, 551368, 592704, 614125, 636056, 681472, 729000, 778688, 830584, 857375, 884736, 941192, 1000000]\n"
     ]
    }
   ],
   "source": [
    "l=[]\n",
    "l1=[]\n",
    "l2=[]\n",
    "for i in range(1,100+1):\n",
    "    l.append(i)\n",
    "for j in l:\n",
    "    l1.append(j**3)\n",
    "for k in l1:\n",
    "    if k%4==0 or k%5==0:\n",
    "        l2.append(k)\n",
    "print(l2)"
   ]
  },
  {
   "cell_type": "code",
   "execution_count": null,
   "id": "806658fb-9c9f-42fb-9dcb-cd7101c57856",
   "metadata": {},
   "outputs": [],
   "source": [
    "\"\"\" while loop- when you know how many times the loop the loop should run.if you want the loop to break based om a condition other than the number of times\n",
    "it runs you should use a while loop.\n"
   ]
  }
 ],
 "metadata": {
  "kernelspec": {
   "display_name": "Python 3 (ipykernel)",
   "language": "python",
   "name": "python3"
  },
  "language_info": {
   "codemirror_mode": {
    "name": "ipython",
    "version": 3
   },
   "file_extension": ".py",
   "mimetype": "text/x-python",
   "name": "python",
   "nbconvert_exporter": "python",
   "pygments_lexer": "ipython3",
   "version": "3.10.8"
  }
 },
 "nbformat": 4,
 "nbformat_minor": 5
}
